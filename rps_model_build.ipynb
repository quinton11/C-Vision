{
  "nbformat": 4,
  "nbformat_minor": 0,
  "metadata": {
    "colab": {
      "name": "rps_model_build.ipynb",
      "provenance": [],
      "collapsed_sections": []
    },
    "kernelspec": {
      "name": "python3",
      "display_name": "Python 3"
    },
    "accelerator": "GPU"
  },
  "cells": [
    {
      "cell_type": "code",
      "metadata": {
        "id": "2YuxetAaCv3W",
        "colab_type": "code",
        "colab": {
          "base_uri": "https://localhost:8080/",
          "height": 35
        },
        "outputId": "bfe403d7-8338-4de2-e2a9-c0e51bca5a19"
      },
      "source": [
        "import numpy as np\n",
        "import tensorflow as tf\n",
        "tf.__version__"
      ],
      "execution_count": 27,
      "outputs": [
        {
          "output_type": "execute_result",
          "data": {
            "application/vnd.google.colaboratory.intrinsic+json": {
              "type": "string"
            },
            "text/plain": [
              "'2.3.0'"
            ]
          },
          "metadata": {
            "tags": []
          },
          "execution_count": 27
        }
      ]
    },
    {
      "cell_type": "code",
      "metadata": {
        "id": "n76DzhtbDUAA",
        "colab_type": "code",
        "colab": {
          "base_uri": "https://localhost:8080/",
          "height": 204
        },
        "outputId": "801a2df9-ec6f-48eb-cea5-2c5884bf4882"
      },
      "source": [
        "#Build network with vgg and train on rock paper scissors dataset\n",
        "!wget https://storage.googleapis.com/laurencemoroney-blog.appspot.com/rps.zip"
      ],
      "execution_count": 28,
      "outputs": [
        {
          "output_type": "stream",
          "text": [
            "--2020-08-29 21:47:27--  https://storage.googleapis.com/laurencemoroney-blog.appspot.com/rps.zip\n",
            "Resolving storage.googleapis.com (storage.googleapis.com)... 74.125.20.128, 74.125.197.128, 74.125.28.128, ...\n",
            "Connecting to storage.googleapis.com (storage.googleapis.com)|74.125.20.128|:443... connected.\n",
            "HTTP request sent, awaiting response... 200 OK\n",
            "Length: 200682221 (191M) [application/zip]\n",
            "Saving to: ‘rps.zip.1’\n",
            "\n",
            "rps.zip.1           100%[===================>] 191.38M   132MB/s    in 1.4s    \n",
            "\n",
            "2020-08-29 21:47:29 (132 MB/s) - ‘rps.zip.1’ saved [200682221/200682221]\n",
            "\n"
          ],
          "name": "stdout"
        }
      ]
    },
    {
      "cell_type": "code",
      "metadata": {
        "id": "SzuAEbkmxn_x",
        "colab_type": "code",
        "colab": {}
      },
      "source": [
        "!unzip rps.zip -d 'sample_data'"
      ],
      "execution_count": 29,
      "outputs": []
    },
    {
      "cell_type": "code",
      "metadata": {
        "id": "vD2dSfpLxqPN",
        "colab_type": "code",
        "colab": {
          "base_uri": "https://localhost:8080/",
          "height": 204
        },
        "outputId": "eb67e306-3f3b-4203-ca2a-42b369808cc1"
      },
      "source": [
        "!wget https://storage.googleapis.com/laurencemoroney-blog.appspot.com/rps-test-set.zip"
      ],
      "execution_count": 4,
      "outputs": [
        {
          "output_type": "stream",
          "text": [
            "--2020-08-29 20:40:37--  https://storage.googleapis.com/laurencemoroney-blog.appspot.com/rps-test-set.zip\n",
            "Resolving storage.googleapis.com (storage.googleapis.com)... 74.125.142.128, 74.125.195.128, 2607:f8b0:400e:c07::80, ...\n",
            "Connecting to storage.googleapis.com (storage.googleapis.com)|74.125.142.128|:443... connected.\n",
            "HTTP request sent, awaiting response... 200 OK\n",
            "Length: 29516758 (28M) [application/zip]\n",
            "Saving to: ‘rps-test-set.zip’\n",
            "\n",
            "rps-test-set.zip    100%[===================>]  28.15M  86.2MB/s    in 0.3s    \n",
            "\n",
            "2020-08-29 20:40:37 (86.2 MB/s) - ‘rps-test-set.zip’ saved [29516758/29516758]\n",
            "\n"
          ],
          "name": "stdout"
        }
      ]
    },
    {
      "cell_type": "code",
      "metadata": {
        "id": "JVY-DHTQy5ng",
        "colab_type": "code",
        "colab": {
          "base_uri": "https://localhost:8080/",
          "height": 1000
        },
        "outputId": "043ff616-b54f-4aa5-d73a-122cb31509aa"
      },
      "source": [
        "!unzip rps-test-set.zip -d 'sample_data'"
      ],
      "execution_count": 5,
      "outputs": [
        {
          "output_type": "stream",
          "text": [
            "Archive:  rps-test-set.zip\n",
            "   creating: sample_data/rps-test-set/paper/\n",
            "  inflating: sample_data/rps-test-set/paper/testpaper01-00.png  \n",
            "  inflating: sample_data/rps-test-set/paper/testpaper01-01.png  \n",
            "  inflating: sample_data/rps-test-set/paper/testpaper01-02.png  \n",
            "  inflating: sample_data/rps-test-set/paper/testpaper01-03.png  \n",
            "  inflating: sample_data/rps-test-set/paper/testpaper01-04.png  \n",
            "  inflating: sample_data/rps-test-set/paper/testpaper01-05.png  \n",
            "  inflating: sample_data/rps-test-set/paper/testpaper01-06.png  \n",
            "  inflating: sample_data/rps-test-set/paper/testpaper01-07.png  \n",
            "  inflating: sample_data/rps-test-set/paper/testpaper01-08.png  \n",
            "  inflating: sample_data/rps-test-set/paper/testpaper01-09.png  \n",
            "  inflating: sample_data/rps-test-set/paper/testpaper01-10.png  \n",
            "  inflating: sample_data/rps-test-set/paper/testpaper01-11.png  \n",
            "  inflating: sample_data/rps-test-set/paper/testpaper01-12.png  \n",
            "  inflating: sample_data/rps-test-set/paper/testpaper01-13.png  \n",
            "  inflating: sample_data/rps-test-set/paper/testpaper01-14.png  \n",
            "  inflating: sample_data/rps-test-set/paper/testpaper01-15.png  \n",
            "  inflating: sample_data/rps-test-set/paper/testpaper01-16.png  \n",
            "  inflating: sample_data/rps-test-set/paper/testpaper01-17.png  \n",
            "  inflating: sample_data/rps-test-set/paper/testpaper01-18.png  \n",
            "  inflating: sample_data/rps-test-set/paper/testpaper01-19.png  \n",
            "  inflating: sample_data/rps-test-set/paper/testpaper01-20.png  \n",
            "  inflating: sample_data/rps-test-set/paper/testpaper01-21.png  \n",
            "  inflating: sample_data/rps-test-set/paper/testpaper01-22.png  \n",
            "  inflating: sample_data/rps-test-set/paper/testpaper01-23.png  \n",
            "  inflating: sample_data/rps-test-set/paper/testpaper01-24.png  \n",
            "  inflating: sample_data/rps-test-set/paper/testpaper01-25.png  \n",
            "  inflating: sample_data/rps-test-set/paper/testpaper01-26.png  \n",
            "  inflating: sample_data/rps-test-set/paper/testpaper01-27.png  \n",
            "  inflating: sample_data/rps-test-set/paper/testpaper01-28.png  \n",
            "  inflating: sample_data/rps-test-set/paper/testpaper01-29.png  \n",
            "  inflating: sample_data/rps-test-set/paper/testpaper01-30.png  \n",
            "  inflating: sample_data/rps-test-set/paper/testpaper02-00.png  \n",
            "  inflating: sample_data/rps-test-set/paper/testpaper02-01.png  \n",
            "  inflating: sample_data/rps-test-set/paper/testpaper02-02.png  \n",
            "  inflating: sample_data/rps-test-set/paper/testpaper02-03.png  \n",
            "  inflating: sample_data/rps-test-set/paper/testpaper02-04.png  \n",
            "  inflating: sample_data/rps-test-set/paper/testpaper02-05.png  \n",
            "  inflating: sample_data/rps-test-set/paper/testpaper02-06.png  \n",
            "  inflating: sample_data/rps-test-set/paper/testpaper02-07.png  \n",
            "  inflating: sample_data/rps-test-set/paper/testpaper02-08.png  \n",
            "  inflating: sample_data/rps-test-set/paper/testpaper02-09.png  \n",
            "  inflating: sample_data/rps-test-set/paper/testpaper02-10.png  \n",
            "  inflating: sample_data/rps-test-set/paper/testpaper02-11.png  \n",
            "  inflating: sample_data/rps-test-set/paper/testpaper02-12.png  \n",
            "  inflating: sample_data/rps-test-set/paper/testpaper02-13.png  \n",
            "  inflating: sample_data/rps-test-set/paper/testpaper02-14.png  \n",
            "  inflating: sample_data/rps-test-set/paper/testpaper02-15.png  \n",
            "  inflating: sample_data/rps-test-set/paper/testpaper02-16.png  \n",
            "  inflating: sample_data/rps-test-set/paper/testpaper02-17.png  \n",
            "  inflating: sample_data/rps-test-set/paper/testpaper02-18.png  \n",
            "  inflating: sample_data/rps-test-set/paper/testpaper02-19.png  \n",
            "  inflating: sample_data/rps-test-set/paper/testpaper02-20.png  \n",
            "  inflating: sample_data/rps-test-set/paper/testpaper02-21.png  \n",
            "  inflating: sample_data/rps-test-set/paper/testpaper02-22.png  \n",
            "  inflating: sample_data/rps-test-set/paper/testpaper02-23.png  \n",
            "  inflating: sample_data/rps-test-set/paper/testpaper02-24.png  \n",
            "  inflating: sample_data/rps-test-set/paper/testpaper02-25.png  \n",
            "  inflating: sample_data/rps-test-set/paper/testpaper02-26.png  \n",
            "  inflating: sample_data/rps-test-set/paper/testpaper02-27.png  \n",
            "  inflating: sample_data/rps-test-set/paper/testpaper02-28.png  \n",
            "  inflating: sample_data/rps-test-set/paper/testpaper02-29.png  \n",
            "  inflating: sample_data/rps-test-set/paper/testpaper02-30.png  \n",
            "  inflating: sample_data/rps-test-set/paper/testpaper03-00.png  \n",
            "  inflating: sample_data/rps-test-set/paper/testpaper03-01.png  \n",
            "  inflating: sample_data/rps-test-set/paper/testpaper03-02.png  \n",
            "  inflating: sample_data/rps-test-set/paper/testpaper03-03.png  \n",
            "  inflating: sample_data/rps-test-set/paper/testpaper03-04.png  \n",
            "  inflating: sample_data/rps-test-set/paper/testpaper03-05.png  \n",
            "  inflating: sample_data/rps-test-set/paper/testpaper03-06.png  \n",
            "  inflating: sample_data/rps-test-set/paper/testpaper03-07.png  \n",
            "  inflating: sample_data/rps-test-set/paper/testpaper03-08.png  \n",
            "  inflating: sample_data/rps-test-set/paper/testpaper03-09.png  \n",
            "  inflating: sample_data/rps-test-set/paper/testpaper03-10.png  \n",
            "  inflating: sample_data/rps-test-set/paper/testpaper03-11.png  \n",
            "  inflating: sample_data/rps-test-set/paper/testpaper03-12.png  \n",
            "  inflating: sample_data/rps-test-set/paper/testpaper03-13.png  \n",
            "  inflating: sample_data/rps-test-set/paper/testpaper03-14.png  \n",
            "  inflating: sample_data/rps-test-set/paper/testpaper03-15.png  \n",
            "  inflating: sample_data/rps-test-set/paper/testpaper03-16.png  \n",
            "  inflating: sample_data/rps-test-set/paper/testpaper03-17.png  \n",
            "  inflating: sample_data/rps-test-set/paper/testpaper03-18.png  \n",
            "  inflating: sample_data/rps-test-set/paper/testpaper03-19.png  \n",
            "  inflating: sample_data/rps-test-set/paper/testpaper03-20.png  \n",
            "  inflating: sample_data/rps-test-set/paper/testpaper03-21.png  \n",
            "  inflating: sample_data/rps-test-set/paper/testpaper03-22.png  \n",
            "  inflating: sample_data/rps-test-set/paper/testpaper03-23.png  \n",
            "  inflating: sample_data/rps-test-set/paper/testpaper03-24.png  \n",
            "  inflating: sample_data/rps-test-set/paper/testpaper03-25.png  \n",
            "  inflating: sample_data/rps-test-set/paper/testpaper03-26.png  \n",
            "  inflating: sample_data/rps-test-set/paper/testpaper03-27.png  \n",
            "  inflating: sample_data/rps-test-set/paper/testpaper03-28.png  \n",
            "  inflating: sample_data/rps-test-set/paper/testpaper03-29.png  \n",
            "  inflating: sample_data/rps-test-set/paper/testpaper03-30.png  \n",
            "  inflating: sample_data/rps-test-set/paper/testpaper04-00.png  \n",
            "  inflating: sample_data/rps-test-set/paper/testpaper04-01.png  \n",
            "  inflating: sample_data/rps-test-set/paper/testpaper04-02.png  \n",
            "  inflating: sample_data/rps-test-set/paper/testpaper04-03.png  \n",
            "  inflating: sample_data/rps-test-set/paper/testpaper04-04.png  \n",
            "  inflating: sample_data/rps-test-set/paper/testpaper04-05.png  \n",
            "  inflating: sample_data/rps-test-set/paper/testpaper04-06.png  \n",
            "  inflating: sample_data/rps-test-set/paper/testpaper04-07.png  \n",
            "  inflating: sample_data/rps-test-set/paper/testpaper04-08.png  \n",
            "  inflating: sample_data/rps-test-set/paper/testpaper04-09.png  \n",
            "  inflating: sample_data/rps-test-set/paper/testpaper04-10.png  \n",
            "  inflating: sample_data/rps-test-set/paper/testpaper04-11.png  \n",
            "  inflating: sample_data/rps-test-set/paper/testpaper04-12.png  \n",
            "  inflating: sample_data/rps-test-set/paper/testpaper04-13.png  \n",
            "  inflating: sample_data/rps-test-set/paper/testpaper04-14.png  \n",
            "  inflating: sample_data/rps-test-set/paper/testpaper04-15.png  \n",
            "  inflating: sample_data/rps-test-set/paper/testpaper04-16.png  \n",
            "  inflating: sample_data/rps-test-set/paper/testpaper04-17.png  \n",
            "  inflating: sample_data/rps-test-set/paper/testpaper04-18.png  \n",
            "  inflating: sample_data/rps-test-set/paper/testpaper04-19.png  \n",
            "  inflating: sample_data/rps-test-set/paper/testpaper04-20.png  \n",
            "  inflating: sample_data/rps-test-set/paper/testpaper04-21.png  \n",
            "  inflating: sample_data/rps-test-set/paper/testpaper04-22.png  \n",
            "  inflating: sample_data/rps-test-set/paper/testpaper04-23.png  \n",
            "  inflating: sample_data/rps-test-set/paper/testpaper04-24.png  \n",
            "  inflating: sample_data/rps-test-set/paper/testpaper04-25.png  \n",
            "  inflating: sample_data/rps-test-set/paper/testpaper04-26.png  \n",
            "  inflating: sample_data/rps-test-set/paper/testpaper04-27.png  \n",
            "  inflating: sample_data/rps-test-set/paper/testpaper04-28.png  \n",
            "  inflating: sample_data/rps-test-set/paper/testpaper04-29.png  \n",
            "  inflating: sample_data/rps-test-set/paper/testpaper04-30.png  \n",
            "   creating: sample_data/rps-test-set/rock/\n",
            "  inflating: sample_data/rps-test-set/rock/testrock01-00.png  \n",
            "  inflating: sample_data/rps-test-set/rock/testrock01-01.png  \n",
            "  inflating: sample_data/rps-test-set/rock/testrock01-02.png  \n",
            "  inflating: sample_data/rps-test-set/rock/testrock01-03.png  \n",
            "  inflating: sample_data/rps-test-set/rock/testrock01-04.png  \n",
            "  inflating: sample_data/rps-test-set/rock/testrock01-05.png  \n",
            "  inflating: sample_data/rps-test-set/rock/testrock01-06.png  \n",
            "  inflating: sample_data/rps-test-set/rock/testrock01-07.png  \n",
            "  inflating: sample_data/rps-test-set/rock/testrock01-08.png  \n",
            "  inflating: sample_data/rps-test-set/rock/testrock01-09.png  \n",
            "  inflating: sample_data/rps-test-set/rock/testrock01-10.png  \n",
            "  inflating: sample_data/rps-test-set/rock/testrock01-11.png  \n",
            "  inflating: sample_data/rps-test-set/rock/testrock01-12.png  \n",
            "  inflating: sample_data/rps-test-set/rock/testrock01-13.png  \n",
            "  inflating: sample_data/rps-test-set/rock/testrock01-14.png  \n",
            "  inflating: sample_data/rps-test-set/rock/testrock01-15.png  \n",
            "  inflating: sample_data/rps-test-set/rock/testrock01-16.png  \n",
            "  inflating: sample_data/rps-test-set/rock/testrock01-17.png  \n",
            "  inflating: sample_data/rps-test-set/rock/testrock01-18.png  \n",
            "  inflating: sample_data/rps-test-set/rock/testrock01-19.png  \n",
            "  inflating: sample_data/rps-test-set/rock/testrock01-20.png  \n",
            "  inflating: sample_data/rps-test-set/rock/testrock01-21.png  \n",
            "  inflating: sample_data/rps-test-set/rock/testrock01-22.png  \n",
            "  inflating: sample_data/rps-test-set/rock/testrock01-23.png  \n",
            "  inflating: sample_data/rps-test-set/rock/testrock01-24.png  \n",
            "  inflating: sample_data/rps-test-set/rock/testrock01-25.png  \n",
            "  inflating: sample_data/rps-test-set/rock/testrock01-26.png  \n",
            "  inflating: sample_data/rps-test-set/rock/testrock01-27.png  \n",
            "  inflating: sample_data/rps-test-set/rock/testrock01-28.png  \n",
            "  inflating: sample_data/rps-test-set/rock/testrock01-29.png  \n",
            "  inflating: sample_data/rps-test-set/rock/testrock01-30.png  \n",
            "  inflating: sample_data/rps-test-set/rock/testrock02-00.png  \n",
            "  inflating: sample_data/rps-test-set/rock/testrock02-01.png  \n",
            "  inflating: sample_data/rps-test-set/rock/testrock02-02.png  \n",
            "  inflating: sample_data/rps-test-set/rock/testrock02-03.png  \n",
            "  inflating: sample_data/rps-test-set/rock/testrock02-04.png  \n",
            "  inflating: sample_data/rps-test-set/rock/testrock02-05.png  \n",
            "  inflating: sample_data/rps-test-set/rock/testrock02-06.png  \n",
            "  inflating: sample_data/rps-test-set/rock/testrock02-07.png  \n",
            "  inflating: sample_data/rps-test-set/rock/testrock02-08.png  \n",
            "  inflating: sample_data/rps-test-set/rock/testrock02-09.png  \n",
            "  inflating: sample_data/rps-test-set/rock/testrock02-10.png  \n",
            "  inflating: sample_data/rps-test-set/rock/testrock02-11.png  \n",
            "  inflating: sample_data/rps-test-set/rock/testrock02-12.png  \n",
            "  inflating: sample_data/rps-test-set/rock/testrock02-13.png  \n",
            "  inflating: sample_data/rps-test-set/rock/testrock02-14.png  \n",
            "  inflating: sample_data/rps-test-set/rock/testrock02-15.png  \n",
            "  inflating: sample_data/rps-test-set/rock/testrock02-16.png  \n",
            "  inflating: sample_data/rps-test-set/rock/testrock02-17.png  \n",
            "  inflating: sample_data/rps-test-set/rock/testrock02-18.png  \n",
            "  inflating: sample_data/rps-test-set/rock/testrock02-19.png  \n",
            "  inflating: sample_data/rps-test-set/rock/testrock02-20.png  \n",
            "  inflating: sample_data/rps-test-set/rock/testrock02-21.png  \n",
            "  inflating: sample_data/rps-test-set/rock/testrock02-22.png  \n",
            "  inflating: sample_data/rps-test-set/rock/testrock02-23.png  \n",
            "  inflating: sample_data/rps-test-set/rock/testrock02-24.png  \n",
            "  inflating: sample_data/rps-test-set/rock/testrock02-25.png  \n",
            "  inflating: sample_data/rps-test-set/rock/testrock02-26.png  \n",
            "  inflating: sample_data/rps-test-set/rock/testrock02-27.png  \n",
            "  inflating: sample_data/rps-test-set/rock/testrock02-28.png  \n",
            "  inflating: sample_data/rps-test-set/rock/testrock02-29.png  \n",
            "  inflating: sample_data/rps-test-set/rock/testrock02-30.png  \n",
            "  inflating: sample_data/rps-test-set/rock/testrock03-00.png  \n",
            "  inflating: sample_data/rps-test-set/rock/testrock03-01.png  \n",
            "  inflating: sample_data/rps-test-set/rock/testrock03-02.png  \n",
            "  inflating: sample_data/rps-test-set/rock/testrock03-03.png  \n",
            "  inflating: sample_data/rps-test-set/rock/testrock03-04.png  \n",
            "  inflating: sample_data/rps-test-set/rock/testrock03-05.png  \n",
            "  inflating: sample_data/rps-test-set/rock/testrock03-06.png  \n",
            "  inflating: sample_data/rps-test-set/rock/testrock03-07.png  \n",
            "  inflating: sample_data/rps-test-set/rock/testrock03-08.png  \n",
            "  inflating: sample_data/rps-test-set/rock/testrock03-09.png  \n",
            "  inflating: sample_data/rps-test-set/rock/testrock03-10.png  \n",
            "  inflating: sample_data/rps-test-set/rock/testrock03-11.png  \n",
            "  inflating: sample_data/rps-test-set/rock/testrock03-12.png  \n",
            "  inflating: sample_data/rps-test-set/rock/testrock03-13.png  \n",
            "  inflating: sample_data/rps-test-set/rock/testrock03-14.png  \n",
            "  inflating: sample_data/rps-test-set/rock/testrock03-15.png  \n",
            "  inflating: sample_data/rps-test-set/rock/testrock03-16.png  \n",
            "  inflating: sample_data/rps-test-set/rock/testrock03-17.png  \n",
            "  inflating: sample_data/rps-test-set/rock/testrock03-18.png  \n",
            "  inflating: sample_data/rps-test-set/rock/testrock03-19.png  \n",
            "  inflating: sample_data/rps-test-set/rock/testrock03-20.png  \n",
            "  inflating: sample_data/rps-test-set/rock/testrock03-21.png  \n",
            "  inflating: sample_data/rps-test-set/rock/testrock03-22.png  \n",
            "  inflating: sample_data/rps-test-set/rock/testrock03-23.png  \n",
            "  inflating: sample_data/rps-test-set/rock/testrock03-24.png  \n",
            "  inflating: sample_data/rps-test-set/rock/testrock03-25.png  \n",
            "  inflating: sample_data/rps-test-set/rock/testrock03-26.png  \n",
            "  inflating: sample_data/rps-test-set/rock/testrock03-27.png  \n",
            "  inflating: sample_data/rps-test-set/rock/testrock03-28.png  \n",
            "  inflating: sample_data/rps-test-set/rock/testrock03-29.png  \n",
            "  inflating: sample_data/rps-test-set/rock/testrock03-30.png  \n",
            "  inflating: sample_data/rps-test-set/rock/testrock04-00.png  \n",
            "  inflating: sample_data/rps-test-set/rock/testrock04-01.png  \n",
            "  inflating: sample_data/rps-test-set/rock/testrock04-02.png  \n",
            "  inflating: sample_data/rps-test-set/rock/testrock04-03.png  \n",
            "  inflating: sample_data/rps-test-set/rock/testrock04-04.png  \n",
            "  inflating: sample_data/rps-test-set/rock/testrock04-05.png  \n",
            "  inflating: sample_data/rps-test-set/rock/testrock04-06.png  \n",
            "  inflating: sample_data/rps-test-set/rock/testrock04-07.png  \n",
            "  inflating: sample_data/rps-test-set/rock/testrock04-08.png  \n",
            "  inflating: sample_data/rps-test-set/rock/testrock04-09.png  \n",
            "  inflating: sample_data/rps-test-set/rock/testrock04-10.png  \n",
            "  inflating: sample_data/rps-test-set/rock/testrock04-11.png  \n",
            "  inflating: sample_data/rps-test-set/rock/testrock04-12.png  \n",
            "  inflating: sample_data/rps-test-set/rock/testrock04-13.png  \n",
            "  inflating: sample_data/rps-test-set/rock/testrock04-14.png  \n",
            "  inflating: sample_data/rps-test-set/rock/testrock04-15.png  \n",
            "  inflating: sample_data/rps-test-set/rock/testrock04-16.png  \n",
            "  inflating: sample_data/rps-test-set/rock/testrock04-17.png  \n",
            "  inflating: sample_data/rps-test-set/rock/testrock04-18.png  \n",
            "  inflating: sample_data/rps-test-set/rock/testrock04-19.png  \n",
            "  inflating: sample_data/rps-test-set/rock/testrock04-20.png  \n",
            "  inflating: sample_data/rps-test-set/rock/testrock04-21.png  \n",
            "  inflating: sample_data/rps-test-set/rock/testrock04-22.png  \n",
            "  inflating: sample_data/rps-test-set/rock/testrock04-23.png  \n",
            "  inflating: sample_data/rps-test-set/rock/testrock04-24.png  \n",
            "  inflating: sample_data/rps-test-set/rock/testrock04-25.png  \n",
            "  inflating: sample_data/rps-test-set/rock/testrock04-26.png  \n",
            "  inflating: sample_data/rps-test-set/rock/testrock04-27.png  \n",
            "  inflating: sample_data/rps-test-set/rock/testrock04-28.png  \n",
            "  inflating: sample_data/rps-test-set/rock/testrock04-29.png  \n",
            "  inflating: sample_data/rps-test-set/rock/testrock04-30.png  \n",
            "   creating: sample_data/rps-test-set/scissors/\n",
            "  inflating: sample_data/rps-test-set/scissors/testscissors01-00.png  \n",
            "  inflating: sample_data/rps-test-set/scissors/testscissors01-01.png  \n",
            "  inflating: sample_data/rps-test-set/scissors/testscissors01-02.png  \n",
            "  inflating: sample_data/rps-test-set/scissors/testscissors01-03.png  \n",
            "  inflating: sample_data/rps-test-set/scissors/testscissors01-04.png  \n",
            "  inflating: sample_data/rps-test-set/scissors/testscissors01-05.png  \n",
            "  inflating: sample_data/rps-test-set/scissors/testscissors01-06.png  \n",
            "  inflating: sample_data/rps-test-set/scissors/testscissors01-07.png  \n",
            "  inflating: sample_data/rps-test-set/scissors/testscissors01-08.png  \n",
            "  inflating: sample_data/rps-test-set/scissors/testscissors01-09.png  \n",
            "  inflating: sample_data/rps-test-set/scissors/testscissors01-10.png  \n",
            "  inflating: sample_data/rps-test-set/scissors/testscissors01-11.png  \n",
            "  inflating: sample_data/rps-test-set/scissors/testscissors01-12.png  \n",
            "  inflating: sample_data/rps-test-set/scissors/testscissors01-13.png  \n",
            "  inflating: sample_data/rps-test-set/scissors/testscissors01-14.png  \n",
            "  inflating: sample_data/rps-test-set/scissors/testscissors01-15.png  \n",
            "  inflating: sample_data/rps-test-set/scissors/testscissors01-16.png  \n",
            "  inflating: sample_data/rps-test-set/scissors/testscissors01-17.png  \n",
            "  inflating: sample_data/rps-test-set/scissors/testscissors01-18.png  \n",
            "  inflating: sample_data/rps-test-set/scissors/testscissors01-19.png  \n",
            "  inflating: sample_data/rps-test-set/scissors/testscissors01-20.png  \n",
            "  inflating: sample_data/rps-test-set/scissors/testscissors01-21.png  \n",
            "  inflating: sample_data/rps-test-set/scissors/testscissors01-22.png  \n",
            "  inflating: sample_data/rps-test-set/scissors/testscissors01-23.png  \n",
            "  inflating: sample_data/rps-test-set/scissors/testscissors01-24.png  \n",
            "  inflating: sample_data/rps-test-set/scissors/testscissors01-25.png  \n",
            "  inflating: sample_data/rps-test-set/scissors/testscissors01-26.png  \n",
            "  inflating: sample_data/rps-test-set/scissors/testscissors01-27.png  \n",
            "  inflating: sample_data/rps-test-set/scissors/testscissors01-28.png  \n",
            "  inflating: sample_data/rps-test-set/scissors/testscissors01-29.png  \n",
            "  inflating: sample_data/rps-test-set/scissors/testscissors01-30.png  \n",
            "  inflating: sample_data/rps-test-set/scissors/testscissors02-00.png  \n",
            "  inflating: sample_data/rps-test-set/scissors/testscissors02-01.png  \n",
            "  inflating: sample_data/rps-test-set/scissors/testscissors02-02.png  \n",
            "  inflating: sample_data/rps-test-set/scissors/testscissors02-03.png  \n",
            "  inflating: sample_data/rps-test-set/scissors/testscissors02-04.png  \n",
            "  inflating: sample_data/rps-test-set/scissors/testscissors02-05.png  \n",
            "  inflating: sample_data/rps-test-set/scissors/testscissors02-06.png  \n",
            "  inflating: sample_data/rps-test-set/scissors/testscissors02-07.png  \n",
            "  inflating: sample_data/rps-test-set/scissors/testscissors02-08.png  \n",
            "  inflating: sample_data/rps-test-set/scissors/testscissors02-09.png  \n",
            "  inflating: sample_data/rps-test-set/scissors/testscissors02-10.png  \n",
            "  inflating: sample_data/rps-test-set/scissors/testscissors02-11.png  \n",
            "  inflating: sample_data/rps-test-set/scissors/testscissors02-12.png  \n",
            "  inflating: sample_data/rps-test-set/scissors/testscissors02-13.png  \n",
            "  inflating: sample_data/rps-test-set/scissors/testscissors02-14.png  \n",
            "  inflating: sample_data/rps-test-set/scissors/testscissors02-15.png  \n",
            "  inflating: sample_data/rps-test-set/scissors/testscissors02-16.png  \n",
            "  inflating: sample_data/rps-test-set/scissors/testscissors02-17.png  \n",
            "  inflating: sample_data/rps-test-set/scissors/testscissors02-18.png  \n",
            "  inflating: sample_data/rps-test-set/scissors/testscissors02-19.png  \n",
            "  inflating: sample_data/rps-test-set/scissors/testscissors02-20.png  \n",
            "  inflating: sample_data/rps-test-set/scissors/testscissors02-21.png  \n",
            "  inflating: sample_data/rps-test-set/scissors/testscissors02-22.png  \n",
            "  inflating: sample_data/rps-test-set/scissors/testscissors02-23.png  \n",
            "  inflating: sample_data/rps-test-set/scissors/testscissors02-24.png  \n",
            "  inflating: sample_data/rps-test-set/scissors/testscissors02-25.png  \n",
            "  inflating: sample_data/rps-test-set/scissors/testscissors02-26.png  \n",
            "  inflating: sample_data/rps-test-set/scissors/testscissors02-27.png  \n",
            "  inflating: sample_data/rps-test-set/scissors/testscissors02-28.png  \n",
            "  inflating: sample_data/rps-test-set/scissors/testscissors02-29.png  \n",
            "  inflating: sample_data/rps-test-set/scissors/testscissors02-30.png  \n",
            "  inflating: sample_data/rps-test-set/scissors/testscissors03-00.png  \n",
            "  inflating: sample_data/rps-test-set/scissors/testscissors03-01.png  \n",
            "  inflating: sample_data/rps-test-set/scissors/testscissors03-02.png  \n",
            "  inflating: sample_data/rps-test-set/scissors/testscissors03-03.png  \n",
            "  inflating: sample_data/rps-test-set/scissors/testscissors03-04.png  \n",
            "  inflating: sample_data/rps-test-set/scissors/testscissors03-05.png  \n",
            "  inflating: sample_data/rps-test-set/scissors/testscissors03-06.png  \n",
            "  inflating: sample_data/rps-test-set/scissors/testscissors03-07.png  \n",
            "  inflating: sample_data/rps-test-set/scissors/testscissors03-08.png  \n",
            "  inflating: sample_data/rps-test-set/scissors/testscissors03-09.png  \n",
            "  inflating: sample_data/rps-test-set/scissors/testscissors03-10.png  \n",
            "  inflating: sample_data/rps-test-set/scissors/testscissors03-11.png  \n",
            "  inflating: sample_data/rps-test-set/scissors/testscissors03-12.png  \n",
            "  inflating: sample_data/rps-test-set/scissors/testscissors03-13.png  \n",
            "  inflating: sample_data/rps-test-set/scissors/testscissors03-14.png  \n",
            "  inflating: sample_data/rps-test-set/scissors/testscissors03-15.png  \n",
            "  inflating: sample_data/rps-test-set/scissors/testscissors03-16.png  \n",
            "  inflating: sample_data/rps-test-set/scissors/testscissors03-17.png  \n",
            "  inflating: sample_data/rps-test-set/scissors/testscissors03-18.png  \n",
            "  inflating: sample_data/rps-test-set/scissors/testscissors03-19.png  \n",
            "  inflating: sample_data/rps-test-set/scissors/testscissors03-20.png  \n",
            "  inflating: sample_data/rps-test-set/scissors/testscissors03-21.png  \n",
            "  inflating: sample_data/rps-test-set/scissors/testscissors03-22.png  \n",
            "  inflating: sample_data/rps-test-set/scissors/testscissors03-23.png  \n",
            "  inflating: sample_data/rps-test-set/scissors/testscissors03-24.png  \n",
            "  inflating: sample_data/rps-test-set/scissors/testscissors03-25.png  \n",
            "  inflating: sample_data/rps-test-set/scissors/testscissors03-26.png  \n",
            "  inflating: sample_data/rps-test-set/scissors/testscissors03-27.png  \n",
            "  inflating: sample_data/rps-test-set/scissors/testscissors03-28.png  \n",
            "  inflating: sample_data/rps-test-set/scissors/testscissors03-29.png  \n",
            "  inflating: sample_data/rps-test-set/scissors/testscissors03-30.png  \n",
            "  inflating: sample_data/rps-test-set/scissors/testscissors04-00.png  \n",
            "  inflating: sample_data/rps-test-set/scissors/testscissors04-01.png  \n",
            "  inflating: sample_data/rps-test-set/scissors/testscissors04-02.png  \n",
            "  inflating: sample_data/rps-test-set/scissors/testscissors04-03.png  \n",
            "  inflating: sample_data/rps-test-set/scissors/testscissors04-04.png  \n",
            "  inflating: sample_data/rps-test-set/scissors/testscissors04-05.png  \n",
            "  inflating: sample_data/rps-test-set/scissors/testscissors04-06.png  \n",
            "  inflating: sample_data/rps-test-set/scissors/testscissors04-07.png  \n",
            "  inflating: sample_data/rps-test-set/scissors/testscissors04-08.png  \n",
            "  inflating: sample_data/rps-test-set/scissors/testscissors04-09.png  \n",
            "  inflating: sample_data/rps-test-set/scissors/testscissors04-10.png  \n",
            "  inflating: sample_data/rps-test-set/scissors/testscissors04-11.png  \n",
            "  inflating: sample_data/rps-test-set/scissors/testscissors04-12.png  \n",
            "  inflating: sample_data/rps-test-set/scissors/testscissors04-13.png  \n",
            "  inflating: sample_data/rps-test-set/scissors/testscissors04-14.png  \n",
            "  inflating: sample_data/rps-test-set/scissors/testscissors04-15.png  \n",
            "  inflating: sample_data/rps-test-set/scissors/testscissors04-16.png  \n",
            "  inflating: sample_data/rps-test-set/scissors/testscissors04-17.png  \n",
            "  inflating: sample_data/rps-test-set/scissors/testscissors04-18.png  \n",
            "  inflating: sample_data/rps-test-set/scissors/testscissors04-19.png  \n",
            "  inflating: sample_data/rps-test-set/scissors/testscissors04-20.png  \n",
            "  inflating: sample_data/rps-test-set/scissors/testscissors04-21.png  \n",
            "  inflating: sample_data/rps-test-set/scissors/testscissors04-22.png  \n",
            "  inflating: sample_data/rps-test-set/scissors/testscissors04-23.png  \n",
            "  inflating: sample_data/rps-test-set/scissors/testscissors04-24.png  \n",
            "  inflating: sample_data/rps-test-set/scissors/testscissors04-25.png  \n",
            "  inflating: sample_data/rps-test-set/scissors/testscissors04-26.png  \n",
            "  inflating: sample_data/rps-test-set/scissors/testscissors04-27.png  \n",
            "  inflating: sample_data/rps-test-set/scissors/testscissors04-28.png  \n",
            "  inflating: sample_data/rps-test-set/scissors/testscissors04-29.png  \n",
            "  inflating: sample_data/rps-test-set/scissors/testscissors04-30.png  \n"
          ],
          "name": "stdout"
        }
      ]
    },
    {
      "cell_type": "code",
      "metadata": {
        "id": "RumvX-BszVtX",
        "colab_type": "code",
        "colab": {}
      },
      "source": [
        "from tensorflow.keras.layers import Dense,Flatten\n",
        "from tensorflow.keras.models import Model\n",
        "from tensorflow.keras.applications.vgg16 import VGG16\n",
        "from tensorflow.keras.applications.vgg16 import preprocess_input\n",
        "from tensorflow.keras.preprocessing.image import ImageDataGenerator\n",
        "from glob import glob\n"
      ],
      "execution_count": 30,
      "outputs": []
    },
    {
      "cell_type": "code",
      "metadata": {
        "id": "hauER-7B0yZc",
        "colab_type": "code",
        "colab": {
          "base_uri": "https://localhost:8080/",
          "height": 68
        },
        "outputId": "840c0832-2f25-48b6-8914-cefd251908a1"
      },
      "source": [
        "Image_shape = [150,150]\n",
        "\n",
        "epochs = 40\n",
        "batch_size = 35\n",
        "training_dir = 'sample_data/rps'\n",
        "test_dir = 'sample_data/rps-test-set'\n",
        "\n",
        "training_imgs = glob(training_dir + '/*/*.png')\n",
        "test_imgs = glob(test_dir + '/*/*.png')\n",
        "\n",
        "num_classes = glob(training_dir + '/*')\n",
        "\n",
        "print(len(training_imgs))\n",
        "print(len(test_imgs))\n",
        "print(len(num_classes))\n"
      ],
      "execution_count": 32,
      "outputs": [
        {
          "output_type": "stream",
          "text": [
            "2520\n",
            "372\n",
            "3\n"
          ],
          "name": "stdout"
        }
      ]
    },
    {
      "cell_type": "code",
      "metadata": {
        "id": "T4IP9koD0aPH",
        "colab_type": "code",
        "colab": {}
      },
      "source": [
        "#Creating model\n",
        "vgg16 = VGG16(include_top=False,weights='imagenet',input_shape=Image_shape + [3])\n",
        "\n",
        "#Freezing layer weights\n",
        "for layer in vgg16.layers:\n",
        "  layer.trainable = False\n",
        "\n",
        "i = Flatten()(vgg16.output)\n",
        "#3 classes from len(num_classes)\n",
        "x = Dense(3,activation='softmax')(i)\n",
        "\n",
        "model = Model(vgg16.input,x)\n",
        "\n",
        "model.compile(optimizer='rmsprop',\n",
        "              loss = 'categorical_crossentropy',\n",
        "              metrics = ['accuracy'])\n",
        "\n"
      ],
      "execution_count": 33,
      "outputs": []
    },
    {
      "cell_type": "code",
      "metadata": {
        "id": "4r2cSc4053ZW",
        "colab_type": "code",
        "colab": {}
      },
      "source": [
        "#Creating our image generator\n",
        "gen = ImageDataGenerator(rotation_range=0.2,\n",
        "                         width_shift_range=0.2,\n",
        "                         height_shift_range=0.2,\n",
        "                         shear_range=0.2,\n",
        "                         zoom_range=0.2,\n",
        "                         horizontal_flip = True,\n",
        "                         vertical_flip=True,\n",
        "                         preprocessing_function=preprocess_input)\n",
        "\n"
      ],
      "execution_count": 34,
      "outputs": []
    },
    {
      "cell_type": "code",
      "metadata": {
        "id": "RPCRbU9d6yGv",
        "colab_type": "code",
        "colab": {
          "base_uri": "https://localhost:8080/",
          "height": 51
        },
        "outputId": "5cae9a55-8bdd-48a7-8453-bf2a80836072"
      },
      "source": [
        "#Creating the training gen\n",
        "training_gen = gen.flow_from_directory(training_dir,\n",
        "                                       Image_shape,\n",
        "                                       batch_size=batch_size,\n",
        "                                       shuffle = True)\n",
        "\n",
        "#Creating the test_gen\n",
        "test_gen = gen.flow_from_directory(test_dir,\n",
        "                                   Image_shape,\n",
        "                                   batch_size=batch_size,\n",
        "                                   shuffle = True)"
      ],
      "execution_count": 35,
      "outputs": [
        {
          "output_type": "stream",
          "text": [
            "Found 2520 images belonging to 3 classes.\n",
            "Found 372 images belonging to 3 classes.\n"
          ],
          "name": "stdout"
        }
      ]
    },
    {
      "cell_type": "code",
      "metadata": {
        "id": "8lLqwS8472qJ",
        "colab_type": "code",
        "colab": {
          "base_uri": "https://localhost:8080/",
          "height": 1000
        },
        "outputId": "aaa81a0c-7374-490d-b86c-40f2306db35a"
      },
      "source": [
        "mod = model.fit_generator(training_gen,\n",
        "                          epochs=epochs,\n",
        "                          steps_per_epoch=2520//batch_size,\n",
        "                          validation_data=test_gen,\n",
        "                          validation_steps = 372//batch_size\n",
        "                        )"
      ],
      "execution_count": 38,
      "outputs": [
        {
          "output_type": "stream",
          "text": [
            "Epoch 1/40\n",
            "72/72 [==============================] - 24s 339ms/step - loss: 0.4057 - accuracy: 0.9448 - val_loss: 2.2828 - val_accuracy: 0.8086\n",
            "Epoch 2/40\n",
            "72/72 [==============================] - 24s 335ms/step - loss: 0.3256 - accuracy: 0.9591 - val_loss: 2.0138 - val_accuracy: 0.8114\n",
            "Epoch 3/40\n",
            "72/72 [==============================] - 24s 335ms/step - loss: 0.1657 - accuracy: 0.9726 - val_loss: 0.9865 - val_accuracy: 0.9000\n",
            "Epoch 4/40\n",
            "72/72 [==============================] - 24s 336ms/step - loss: 0.2185 - accuracy: 0.9734 - val_loss: 3.7977 - val_accuracy: 0.7771\n",
            "Epoch 5/40\n",
            "72/72 [==============================] - 24s 334ms/step - loss: 0.1574 - accuracy: 0.9778 - val_loss: 1.5733 - val_accuracy: 0.8600\n",
            "Epoch 6/40\n",
            "72/72 [==============================] - 24s 333ms/step - loss: 0.1243 - accuracy: 0.9810 - val_loss: 2.4737 - val_accuracy: 0.8314\n",
            "Epoch 7/40\n",
            "72/72 [==============================] - 24s 337ms/step - loss: 0.1318 - accuracy: 0.9865 - val_loss: 2.2504 - val_accuracy: 0.8543\n",
            "Epoch 8/40\n",
            "72/72 [==============================] - 24s 335ms/step - loss: 0.1062 - accuracy: 0.9833 - val_loss: 5.5324 - val_accuracy: 0.7600\n",
            "Epoch 9/40\n",
            "72/72 [==============================] - 24s 336ms/step - loss: 0.0742 - accuracy: 0.9901 - val_loss: 2.0639 - val_accuracy: 0.8314\n",
            "Epoch 10/40\n",
            "72/72 [==============================] - 24s 336ms/step - loss: 0.0888 - accuracy: 0.9889 - val_loss: 2.3040 - val_accuracy: 0.8371\n",
            "Epoch 11/40\n",
            "72/72 [==============================] - 24s 334ms/step - loss: 0.0932 - accuracy: 0.9901 - val_loss: 2.7664 - val_accuracy: 0.8343\n",
            "Epoch 12/40\n",
            "72/72 [==============================] - 24s 335ms/step - loss: 0.1127 - accuracy: 0.9869 - val_loss: 4.9708 - val_accuracy: 0.8086\n",
            "Epoch 13/40\n",
            "72/72 [==============================] - 24s 336ms/step - loss: 0.1001 - accuracy: 0.9893 - val_loss: 2.4402 - val_accuracy: 0.8657\n",
            "Epoch 14/40\n",
            "72/72 [==============================] - 24s 334ms/step - loss: 0.0785 - accuracy: 0.9925 - val_loss: 3.0178 - val_accuracy: 0.8286\n",
            "Epoch 15/40\n",
            "72/72 [==============================] - 24s 334ms/step - loss: 0.0956 - accuracy: 0.9893 - val_loss: 5.5912 - val_accuracy: 0.7914\n",
            "Epoch 16/40\n",
            "72/72 [==============================] - 24s 334ms/step - loss: 0.0501 - accuracy: 0.9940 - val_loss: 1.8176 - val_accuracy: 0.8714\n",
            "Epoch 17/40\n",
            "72/72 [==============================] - 24s 335ms/step - loss: 0.0778 - accuracy: 0.9897 - val_loss: 3.1391 - val_accuracy: 0.8629\n",
            "Epoch 18/40\n",
            "72/72 [==============================] - 24s 334ms/step - loss: 0.0837 - accuracy: 0.9901 - val_loss: 6.3409 - val_accuracy: 0.7943\n",
            "Epoch 19/40\n",
            "72/72 [==============================] - 24s 335ms/step - loss: 0.1142 - accuracy: 0.9901 - val_loss: 2.5122 - val_accuracy: 0.8743\n",
            "Epoch 20/40\n",
            "72/72 [==============================] - 24s 338ms/step - loss: 0.0417 - accuracy: 0.9937 - val_loss: 5.6847 - val_accuracy: 0.8057\n",
            "Epoch 21/40\n",
            "72/72 [==============================] - 24s 338ms/step - loss: 0.0388 - accuracy: 0.9925 - val_loss: 3.2864 - val_accuracy: 0.8229\n",
            "Epoch 22/40\n",
            "72/72 [==============================] - 24s 337ms/step - loss: 0.0769 - accuracy: 0.9925 - val_loss: 5.8604 - val_accuracy: 0.7714\n",
            "Epoch 23/40\n",
            "72/72 [==============================] - 24s 334ms/step - loss: 0.0383 - accuracy: 0.9917 - val_loss: 3.9874 - val_accuracy: 0.8343\n",
            "Epoch 24/40\n",
            "72/72 [==============================] - 24s 335ms/step - loss: 0.0757 - accuracy: 0.9909 - val_loss: 5.2098 - val_accuracy: 0.8171\n",
            "Epoch 25/40\n",
            "72/72 [==============================] - 24s 335ms/step - loss: 0.0752 - accuracy: 0.9921 - val_loss: 3.9818 - val_accuracy: 0.8057\n",
            "Epoch 26/40\n",
            "72/72 [==============================] - 24s 335ms/step - loss: 0.0328 - accuracy: 0.9956 - val_loss: 5.6331 - val_accuracy: 0.8171\n",
            "Epoch 27/40\n",
            "72/72 [==============================] - 24s 335ms/step - loss: 0.0277 - accuracy: 0.9960 - val_loss: 4.1381 - val_accuracy: 0.8200\n",
            "Epoch 28/40\n",
            "72/72 [==============================] - 24s 335ms/step - loss: 0.0798 - accuracy: 0.9929 - val_loss: 3.9712 - val_accuracy: 0.8429\n",
            "Epoch 29/40\n",
            "72/72 [==============================] - 24s 334ms/step - loss: 0.0692 - accuracy: 0.9944 - val_loss: 3.9657 - val_accuracy: 0.8400\n",
            "Epoch 30/40\n",
            "72/72 [==============================] - 24s 336ms/step - loss: 0.0462 - accuracy: 0.9937 - val_loss: 5.6808 - val_accuracy: 0.7914\n",
            "Epoch 31/40\n",
            "72/72 [==============================] - 24s 333ms/step - loss: 0.0393 - accuracy: 0.9952 - val_loss: 6.8848 - val_accuracy: 0.8114\n",
            "Epoch 32/40\n",
            "72/72 [==============================] - 24s 333ms/step - loss: 0.0521 - accuracy: 0.9972 - val_loss: 4.5838 - val_accuracy: 0.8314\n",
            "Epoch 33/40\n",
            "72/72 [==============================] - 24s 337ms/step - loss: 0.0412 - accuracy: 0.9948 - val_loss: 5.8196 - val_accuracy: 0.8029\n",
            "Epoch 34/40\n",
            "72/72 [==============================] - 24s 334ms/step - loss: 0.0410 - accuracy: 0.9940 - val_loss: 3.9676 - val_accuracy: 0.8429\n",
            "Epoch 35/40\n",
            "72/72 [==============================] - 24s 332ms/step - loss: 0.0425 - accuracy: 0.9937 - val_loss: 7.2973 - val_accuracy: 0.7829\n",
            "Epoch 36/40\n",
            "72/72 [==============================] - 24s 334ms/step - loss: 0.0504 - accuracy: 0.9940 - val_loss: 4.6540 - val_accuracy: 0.8257\n",
            "Epoch 37/40\n",
            "72/72 [==============================] - 24s 333ms/step - loss: 0.0518 - accuracy: 0.9952 - val_loss: 5.8741 - val_accuracy: 0.8086\n",
            "Epoch 38/40\n",
            "72/72 [==============================] - 24s 334ms/step - loss: 0.0265 - accuracy: 0.9968 - val_loss: 4.4057 - val_accuracy: 0.8400\n",
            "Epoch 39/40\n",
            "72/72 [==============================] - 24s 335ms/step - loss: 0.0354 - accuracy: 0.9944 - val_loss: 5.0325 - val_accuracy: 0.8200\n",
            "Epoch 40/40\n",
            "72/72 [==============================] - 24s 335ms/step - loss: 0.0871 - accuracy: 0.9937 - val_loss: 3.6390 - val_accuracy: 0.8714\n"
          ],
          "name": "stdout"
        }
      ]
    },
    {
      "cell_type": "code",
      "metadata": {
        "id": "Fb4omll39amL",
        "colab_type": "code",
        "colab": {
          "base_uri": "https://localhost:8080/",
          "height": 265
        },
        "outputId": "69ccf26e-70f8-4817-b318-deb6ee64919e"
      },
      "source": [
        "import matplotlib.pyplot as plt\n",
        "plt.plot(mod.history['accuracy'],label='accuracy')\n",
        "plt.plot(mod.history['val_accuracy'],label='val_acc')\n",
        "plt.legend()\n",
        "plt.show()"
      ],
      "execution_count": 39,
      "outputs": [
        {
          "output_type": "display_data",
          "data": {
            "image/png": "[encoded data removed]",
            "text/plain": [
              "<Figure size 432x288 with 1 Axes>"
            ]
          },
          "metadata": {
            "tags": [],
            "needs_background": "light"
          }
        }
      ]
    },
    {
      "cell_type": "code",
      "metadata": {
        "id": "gF68wfVNB_iS",
        "colab_type": "code",
        "colab": {
          "base_uri": "https://localhost:8080/",
          "height": 265
        },
        "outputId": "8d58a644-1ec6-44ae-a6d8-0ffdd56394c1"
      },
      "source": [
        "plt.plot(mod.history['loss'],label='loss')\n",
        "plt.plot(mod.history['val_loss'],label='val_loss')\n",
        "plt.legend()\n",
        "plt.show()"
      ],
      "execution_count": 40,
      "outputs": [
        {
          "output_type": "display_data",
          "data": {
            "image/png": "[encoded data removed]",
            "text/plain": [
              "<Figure size 432x288 with 1 Axes>"
            ]
          },
          "metadata": {
            "tags": [],
            "needs_background": "light"
          }
        }
      ]
    },
    {
      "cell_type": "code",
      "metadata": {
        "id": "Ku3_kD1oCVi-",
        "colab_type": "code",
        "colab": {}
      },
      "source": [
        "model.save('rps_model.h5')"
      ],
      "execution_count": 41,
      "outputs": []
    }
  ]
}